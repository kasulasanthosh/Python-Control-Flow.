{
 "cells": [
  {
   "cell_type": "code",
   "execution_count": 36,
   "id": "2ed417ea-61ec-4769-b606-ac31e9ec3929",
   "metadata": {},
   "outputs": [
    {
     "name": "stdin",
     "output_type": "stream",
     "text": [
      "enter number 25\n"
     ]
    },
    {
     "name": "stdout",
     "output_type": "stream",
     "text": [
      "number is positive\n"
     ]
    }
   ],
   "source": [
    "1 #write a python program that checks a given number is poistive,negative.\n",
    "x=int(input(\"enter number\"))\n",
    "if x<0:\n",
    "    print(\"number is negative\")\n",
    "else:\n",
    "    print(\"number is positive\")\n"
   ]
  },
  {
   "cell_type": "code",
   "execution_count": 27,
   "id": "75fb3083-dd6c-4c92-b969-6755daf472d5",
   "metadata": {},
   "outputs": [
    {
     "name": "stdin",
     "output_type": "stream",
     "text": [
      "enter number 15\n"
     ]
    },
    {
     "name": "stdout",
     "output_type": "stream",
     "text": [
      "person is  not eligible to vote\n"
     ]
    }
   ],
   "source": [
    "#2. create program to determine if a person is eligible to vote based on their age\n",
    "x=int(input(\"enter number\"))\n",
    "if x<18:\n",
    "    print(\"person is  not eligible to vote\")\n",
    "elif x>=18:\n",
    "    print(\"person is eligible to vote\")"
   ]
  },
  {
   "cell_type": "code",
   "execution_count": 14,
   "id": "88619f28-807a-44a6-9ef7-91df4ca2d417",
   "metadata": {},
   "outputs": [
    {
     "name": "stdin",
     "output_type": "stream",
     "text": [
      "enter number -2\n",
      "enter number -3\n"
     ]
    },
    {
     "name": "stdout",
     "output_type": "stream",
     "text": [
      " the maximum number is : -2\n"
     ]
    }
   ],
   "source": [
    "#3. write a program to find the maximum of two given numbers using conditional level\n",
    "x=int(input(\"enter number\"))\n",
    "y=int(input(\"enter number\"))\n",
    "if x<y:\n",
    "    print(\" the maximum number is :\",y)\n",
    "else:\n",
    "    print(\" the maximum number is :\",x)"
   ]
  },
  {
   "cell_type": "code",
   "execution_count": 3,
   "id": "3ff885b8-0bd3-441d-885a-f76f03dc5722",
   "metadata": {},
   "outputs": [
    {
     "name": "stdin",
     "output_type": "stream",
     "text": [
      "enter year 1988\n"
     ]
    },
    {
     "name": "stdout",
     "output_type": "stream",
     "text": [
      " year is  leap year\n"
     ]
    }
   ],
   "source": [
    "# 4. Create a program that checks if a year is a leap year or not.\n",
    "x=int(input(\"enter year\"))\n",
    "if x%4==0:\n",
    "    print(\" year is  leap year\")\n",
    "else:\n",
    "    print(\"year is not leap year\")"
   ]
  },
  {
   "cell_type": "code",
   "execution_count": 7,
   "id": "1f593e42-0332-407e-bcf7-76e8032f7416",
   "metadata": {},
   "outputs": [
    {
     "name": "stdin",
     "output_type": "stream",
     "text": [
      "enter character: b\n"
     ]
    },
    {
     "name": "stdout",
     "output_type": "stream",
     "text": [
      " character is consonent\n"
     ]
    }
   ],
   "source": [
    "# 5. Create a program that checks whether a character is a vowel or a consonant.\n",
    "v=str(input(\"enter character:\"))\n",
    "if(v=='a'or v=='e'or v=='i'or v=='o'or v=='u'or v=='A'or v=='E'or v=='I' or v=='O' or v=='U'):\n",
    "      print(\"character is vowel\")\n",
    "else:\n",
    "      print(\" character is consonent\")"
   ]
  },
  {
   "cell_type": "code",
   "execution_count": null,
   "id": "518eeb37-2488-434e-a806-48b787266c1e",
   "metadata": {},
   "outputs": [
    {
     "name": "stdin",
     "output_type": "stream",
     "text": [
      "enter number 25\n"
     ]
    },
    {
     "name": "stdout",
     "output_type": "stream",
     "text": [
      "number is odd\n"
     ]
    }
   ],
   "source": [
    "# 6. Implement a program to determine whether a given number is even or odd.\n",
    "a=float(input(\"enter number\"))\n",
    "if a%2==0:\n",
    "    print(\"number is even\")\n",
    "else:\n",
    "    print(\"number is odd\")"
   ]
  },
  {
   "cell_type": "code",
   "execution_count": 18,
   "id": "d824630b-2595-4d65-8ca1-60dcdae05c04",
   "metadata": {},
   "outputs": [
    {
     "name": "stdin",
     "output_type": "stream",
     "text": [
      "enter number 9\n"
     ]
    },
    {
     "name": "stdout",
     "output_type": "stream",
     "text": [
      "the absolute number is : 9.0\n"
     ]
    }
   ],
   "source": [
    "#7. Write a Python function to calculate the absolute value of a number without using the `abs()` function.\n",
    "a=float(input(\"enter number\"))\n",
    "if a>=0:\n",
    "        print(\"the absolute number is :\",a)\n",
    "else:\n",
    "        print(\"the absolute number is\",-a)"
   ]
  },
  {
   "cell_type": "code",
   "execution_count": null,
   "id": "9838d54f-ba9b-4da2-9a2d-a7b3c96be040",
   "metadata": {},
   "outputs": [
    {
     "name": "stdin",
     "output_type": "stream",
     "text": [
      "enter number 5\n",
      "enter number 6\n",
      "enter number 7\n"
     ]
    },
    {
     "name": "stdout",
     "output_type": "stream",
     "text": [
      "the max number is: 7.0\n"
     ]
    }
   ],
   "source": [
    " #8. Develop a program that determines the largest of three given numbers using if-else statement\n",
    "a=float(input(\"enter number\"))\n",
    "b=float(input(\"enter number\"))\n",
    "c=float(input(\"enter number\"))\n",
    "if a>=b and a>=c:\n",
    "    print(\"the max number is:\",a)\n",
    "elif b>=a and b>=c:\n",
    "    print(\"the max number is:\",b)\n",
    "else:\n",
    "    print(\"the max number is:\",c)   "
   ]
  },
  {
   "cell_type": "code",
   "execution_count": null,
   "id": "ee6d48b5-f33b-4b11-874a-db43243f690b",
   "metadata": {},
   "outputs": [],
   "source": [
    "# 9. Create a program that checks if a given string is a palindrome.\n",
    "def polindrome():\n",
    "    a=input(\"enter a string\")\n",
    "    if a==a[::-1]:\n",
    "        print(\"sting is polindrome\")\n",
    "    else:\n",
    "        print(\"string is not polindrome\")\n",
    "polindrome()"
   ]
  },
  {
   "cell_type": "code",
   "execution_count": null,
   "id": "3e6c2d31-4b7a-4ab4-9779-6fb796d4f031",
   "metadata": {},
   "outputs": [
    {
     "name": "stdin",
     "output_type": "stream",
     "text": [
      "enter student score 50\n"
     ]
    },
    {
     "name": "stdout",
     "output_type": "stream",
     "text": [
      "Grade is C\n"
     ]
    }
   ],
   "source": [
    "#10. Develop a program that calculates the grade of a student based on their exam score.\n",
    "x=int(input(\"enter student score\"))\n",
    "if x>=90:\n",
    "    print(\"Grade is O\")\n",
    "elif 80<=x<90:\n",
    "    print(\"Grade is A+\")\n",
    "elif 70<=x<80:\n",
    "    print(\"Grade is A\")\n",
    "elif 60<=x<70:\n",
    "    print(\"Grade is B\")\n",
    "elif 50<=x<60:\n",
    "    print(\"Grade is C\")\n",
    "else:\n",
    "    print(\"Fail\")\n"
   ]
  },
  {
   "cell_type": "code",
   "execution_count": 15,
   "id": "576071d9-1869-4364-800a-a67ac321ac8d",
   "metadata": {},
   "outputs": [
    {
     "name": "stdin",
     "output_type": "stream",
     "text": [
      "enter number 5\n",
      "enter number 4\n",
      "enter number 7\n"
     ]
    },
    {
     "name": "stdout",
     "output_type": "stream",
     "text": [
      "the max number is: 7.0\n"
     ]
    }
   ],
   "source": [
    "#11. Write a program to find the largest among three numbers using nested if-else statements\n",
    "a=float(input(\"enter number\"))\n",
    "b=float(input(\"enter number\"))\n",
    "c=float(input(\"enter number\"))\n",
    "if a>b:\n",
    "    if b>c:\n",
    "        print(\"the max number is:\",a)\n",
    "    else:\n",
    "        if c>a:\n",
    "            print(\"the max number is:\",c)\n",
    "        else:\n",
    "            print(\"the max number is:\",a)\n",
    "else:\n",
    "    if b>c:\n",
    "        print(\"the max number is:\",b)\n",
    "    else:\n",
    "        print(\"the max number is:\",c)\n",
    "           "
   ]
  },
  {
   "cell_type": "code",
   "execution_count": 6,
   "id": "54820ecd-8013-404e-9e60-5af88625279f",
   "metadata": {},
   "outputs": [
    {
     "name": "stdin",
     "output_type": "stream",
     "text": [
      "enter side 6\n",
      "enter side 6\n",
      "enter side 6\n"
     ]
    },
    {
     "name": "stdout",
     "output_type": "stream",
     "text": [
      "Triangle is Equilateral.\n"
     ]
    }
   ],
   "source": [
    "#12. Implement a program to determine if a triangle is equilateral, isosceles, or scalene\n",
    "a=float(input(\"enter side\"))\n",
    "b=float(input(\"enter side\"))\n",
    "c=float(input(\"enter side\"))\n",
    "if a==b and b==c:\n",
    "        print('Triangle is Equilateral.')\n",
    "elif a==b or b==c or a==c:\n",
    "        print('Triangle is Isosceles.')\n",
    "else:\n",
    "        print('Triangle is Scalane')"
   ]
  },
  {
   "cell_type": "code",
   "execution_count": 25,
   "id": "98beea9e-3094-4063-929d-42478ffda368",
   "metadata": {},
   "outputs": [
    {
     "name": "stdin",
     "output_type": "stream",
     "text": [
      "eneter any year 2004\n"
     ]
    },
    {
     "name": "stdout",
     "output_type": "stream",
     "text": [
      "the given year is a leap year\n"
     ]
    }
   ],
   "source": [
    "#13. Develop a program that checks if a year is a leap year and also if it is a century year.\n",
    "year=int(input(\"eneter any year\"))\n",
    "\n",
    "if year%400==0 and year%100==0:\n",
    "    print(\"the given year is a leap year\")\n",
    "elif year%4==0 and year%100!=0:\n",
    "    print(\"the given year is a leap year\")\n",
    "else:\n",
    "    print(\"the given year not a leap year\")"
   ]
  },
  {
   "cell_type": "code",
   "execution_count": 29,
   "id": "c7457068-6ddf-4107-84e6-2b1966a5a2f8",
   "metadata": {},
   "outputs": [
    {
     "name": "stdin",
     "output_type": "stream",
     "text": [
      "enter number 6\n"
     ]
    },
    {
     "name": "stdout",
     "output_type": "stream",
     "text": [
      "number is positive\n"
     ]
    }
   ],
   "source": [
    "# 14. Write a Python script to determine if a number is positive, negative, or zero.\n",
    "x=float(input(\"enter number\"))\n",
    "if x<0:\n",
    "    print(\"number is negative\")\n",
    "elif x>0:\n",
    "    print(\"number is positive\")\n",
    "else:  \n",
    "    print(\"number is zero\")"
   ]
  },
  {
   "cell_type": "code",
   "execution_count": 38,
   "id": "362dbb88-0244-4164-8d31-6f503a8a64b7",
   "metadata": {},
   "outputs": [
    {
     "name": "stdin",
     "output_type": "stream",
     "text": [
      "enter age 25\n"
     ]
    },
    {
     "name": "stdout",
     "output_type": "stream",
     "text": [
      "person is not teenager\n"
     ]
    }
   ],
   "source": [
    "# 15. Create a program to check if a person is a teenager (between 13 and 19 years old).\n",
    "x=int(input(\"enter age\"))\n",
    "if 13<=x<=19:\n",
    "    print(\"person is  teenager\")\n",
    "else:\n",
    "    print(\"person is not teenager\")\n"
   ]
  },
  {
   "cell_type": "code",
   "execution_count": 1,
   "id": "f9c69f9c-f88b-43f3-b83f-4d7ed308bca0",
   "metadata": {},
   "outputs": [
    {
     "name": "stdin",
     "output_type": "stream",
     "text": [
      "enter the side 5\n",
      "enter the side 6\n",
      "enter the side 7\n"
     ]
    },
    {
     "name": "stdout",
     "output_type": "stream",
     "text": [
      "the angle is acute\n"
     ]
    }
   ],
   "source": [
    "# 16. Develop a program that determines the type of angle based on its measure (acute, obtuse, or right).\n",
    "x=int(input(\"enter the side\"))\n",
    "y=int(input(\"enter the side\"))\n",
    "z=int(input(\"enter the side\"))\n",
    "if x**2+y**2>z**2:\n",
    "    print(\"the angle is acute\")\n",
    "elif x**2+y**2<z**2:\n",
    "    print(\"the angle is obtuse\")\n",
    "else:\n",
    "    print(\"the angle is right\")\n"
   ]
  },
  {
   "cell_type": "code",
   "execution_count": null,
   "id": "6a9d543b-d26f-4478-806e-6ec72596c675",
   "metadata": {},
   "outputs": [],
   "source": [
    "# 17. Write a Python program to calculate the roots of a quadratic equation.\n",
    "import math\n",
    "def quadraticequn(a,b,c):\n",
    "    disc=b*b-4*a*c\n",
    "    squr_val=math.sqrt(abs(disc))\n",
    "    if disc>0:\n",
    "        print(\"the roots are real and distinct\")\n",
    "        print((-b+squr_val)/(2*a))\n",
    "        print((-b-squr_val)/(2*a))\n",
    "    elif disc==0:\n",
    "        print(\"the roots are real and same\")\n",
    "        print(-b/(2*a))\n",
    "    else:\n",
    "        print(\"the roots are complex\")\n",
    "        print(- b / (2 * a), + i, squr_val)\n",
    "        print(- b / (2 * a), - i, squr_val)     \n",
    "quadraticequn(1,10,12)"
   ]
  },
  {
   "cell_type": "code",
   "execution_count": 20,
   "id": "ac937d6d-2fbd-45ab-a4b1-c7cdb6fea639",
   "metadata": {},
   "outputs": [
    {
     "name": "stdin",
     "output_type": "stream",
     "text": [
      "Enter weekday number (1-7) :  5\n"
     ]
    },
    {
     "name": "stdout",
     "output_type": "stream",
     "text": [
      "\n",
      "Friday\n"
     ]
    }
   ],
   "source": [
    "#18. Implement a program to determine the day of the week based on a user-provided number (1 for Monday, 2 for Tuesday, etc.).\n",
    "weekday = int(input(\"Enter weekday number (1-7) : \"))\n",
    "if weekday == 1 :\n",
    "    print(\"\\nMonday\");\n",
    "elif weekday == 2 :\n",
    "    print(\"\\nTuesday\")\n",
    "elif weekday == 3 :\n",
    "    print(\"\\nWednesday\")\n",
    "elif weekday == 4 :\n",
    "    print(\"\\nThursday\")\n",
    "elif weekday == 5 :\n",
    "    print(\"\\nFriday\")\n",
    "elif weekday == 6 :\n",
    "    print(\"\\nSaturday\")\n",
    "elif weekday == 7 :\n",
    "    print(\"\\nSunday\")\n",
    "else :\n",
    "    print(\"\\nPlease enter any weekday number (1-7)\")\n",
    "    "
   ]
  },
  {
   "cell_type": "code",
   "execution_count": 5,
   "id": "a8b48603-704a-4a87-9e42-2eee46c8d9f6",
   "metadata": {},
   "outputs": [
    {
     "name": "stdout",
     "output_type": "stream",
     "text": [
      "the roots are real and distinct\n",
      "-1.3944487245360109\n",
      "-8.60555127546399\n"
     ]
    }
   ],
   "source": [
    "# 19. Create a program that determines if a year is a leap year and also if it is evenly divisible by 400.\n",
    "year=int(input(\"eneter any year\"))\n",
    "if year%400==0 and year%100==0:\n",
    "    print(\"the given year is a leap year\")\n",
    "elif year%4==0 and year%100!=0:\n",
    "    print(\"the given year is a leap year\")\n",
    "else:\n",
    "    print(\"the given year not a leap year\")"
   ]
  },
  {
   "cell_type": "code",
   "execution_count": 35,
   "id": "20c19268-28cd-4e61-9072-79fcf34826cd",
   "metadata": {},
   "outputs": [
    {
     "name": "stdin",
     "output_type": "stream",
     "text": [
      "enter any number 25\n"
     ]
    },
    {
     "name": "stdout",
     "output_type": "stream",
     "text": [
      "given number is not a prime\n"
     ]
    }
   ],
   "source": [
    "# 20. Develop a program that checks if a given number is prime or not using nested if-else statements\n",
    "check_prime=int(input(\"enter any number\"))\n",
    "if check_prime>1:\n",
    "    for i in range(2,int(check_prime/2)+1):\n",
    "        if check_prime%i==0:\n",
    "            print(\"given number is not a prime\")\n",
    "            break\n",
    "    else:\n",
    "        print(\"given number is prime\")\n",
    "else:\n",
    "    print(\"given number is not a prime\")\n",
    "                "
   ]
  },
  {
   "cell_type": "code",
   "execution_count": null,
   "id": "1a8ea89e-5021-414d-b4dd-20b5459ee032",
   "metadata": {},
   "outputs": [],
   "source": [
    "# 21. Write a Python program to assign grades based on different ranges of scores using elif statements.\n",
    "x=int(input(\"enter student score\"))\n",
    "if x>=90:\n",
    "    print(\"Grade is O\")\n",
    "elif 80<=x<90:\n",
    "    print(\"Grade is A+\")\n",
    "elif 70<=x<80:\n",
    "    print(\"Grade is A\")\n",
    "elif 60<=x<70:\n",
    "    print(\"Grade is B\")\n",
    "elif 50<=x<60:\n",
    "    print(\"Grade is C\")\n",
    "else:\n",
    "    print(\"Fail\")"
   ]
  },
  {
   "cell_type": "code",
   "execution_count": 2,
   "id": "5a9ed820-de32-4bfd-ac57-0886408a3aca",
   "metadata": {},
   "outputs": [
    {
     "name": "stdin",
     "output_type": "stream",
     "text": [
      "enter side 3\n",
      "enter side 45\n",
      "enter side 5\n"
     ]
    },
    {
     "name": "stdout",
     "output_type": "stream",
     "text": [
      "Triangle is Scalane\n"
     ]
    }
   ],
   "source": [
    "#22. Implement a program to determine the type of a triangle based on its angles.\n",
    "a=float(input(\"enter side\"))\n",
    "b=float(input(\"enter side\"))\n",
    "c=float(input(\"enter side\"))\n",
    "if a==b and b==c:\n",
    "        print('Triangle is Equilateral.')\n",
    "elif a==b or b==c or a==c:\n",
    "        print('Triangle is Isosceles.')\n",
    "else:\n",
    "        print('Triangle is Scalane')"
   ]
  },
  {
   "cell_type": "code",
   "execution_count": 44,
   "id": "3d963d4e-cc3d-4938-8aed-8d4946f6d989",
   "metadata": {},
   "outputs": [
    {
     "name": "stdin",
     "output_type": "stream",
     "text": [
      "enter your height in meters 1.8\n",
      "enter your weight in kgs 80\n"
     ]
    },
    {
     "name": "stdout",
     "output_type": "stream",
     "text": [
      "the bmi is: 24.69\n",
      "The person is normal weight\n"
     ]
    }
   ],
   "source": [
    "#23. Develop a program to categorize a given person's BMI into underweight, normal, overweight, or obese using  elif statements.\n",
    "height=float(input(\"enter your height in meters\"))\n",
    "weight=float(input(\"enter your weight in kgs\"))\n",
    "bmi=(weight / height**2)\n",
    "print(\"the bmi is:\",round(bmi,2))\n",
    "if bmi<=18.5:\n",
    "    print(\"The person is underweight\")\n",
    "elif 18.5<bmi<24.9:\n",
    "    print(\"The person is normal weight\")\n",
    "elif 25<bmi<29.9:\n",
    "    print(\"The person is normal weight\")\n",
    "else:\n",
    "    print(\"the person is obesity\")"
   ]
  },
  {
   "cell_type": "code",
   "execution_count": 3,
   "id": "f386b67e-f1cf-4f4b-84b8-a77bced891ce",
   "metadata": {},
   "outputs": [
    {
     "name": "stdin",
     "output_type": "stream",
     "text": [
      "enter number 5\n"
     ]
    },
    {
     "name": "stdout",
     "output_type": "stream",
     "text": [
      "number is positive\n"
     ]
    }
   ],
   "source": [
    "#24. Create a program that determines whether a given number is positive, negative, or zero using elif statements.\n",
    "x=float(input(\"enter number\"))\n",
    "if x<0:\n",
    "    print(\"number is negative\")\n",
    "elif x>0:\n",
    "    print(\"number is positive\")\n",
    "else:  \n",
    "    print(\"number is zero\")"
   ]
  },
  {
   "cell_type": "code",
   "execution_count": 41,
   "id": "07b8dc5d-28e5-42a0-ae03-63eb129d2584",
   "metadata": {},
   "outputs": [
    {
     "name": "stdin",
     "output_type": "stream",
     "text": [
      "enter any character T\n"
     ]
    },
    {
     "name": "stdout",
     "output_type": "stream",
     "text": [
      "given character is upper\n"
     ]
    }
   ],
   "source": [
    "#25. Write a Python script to determine the type of a character (uppercase, lowercase, or special) using elif statements.\n",
    "a=input(\"enter any character\")\n",
    "if a.isupper():\n",
    "    print(\"given character is upper\")\n",
    "elif a.islower():\n",
    "    print(\"given character is lower\")\n",
    "else:\n",
    "    print(\"given character is special characeter\")"
   ]
  },
  {
   "cell_type": "code",
   "execution_count": 10,
   "id": "8ca0388d-4676-4255-93c0-e9f64fa0021e",
   "metadata": {},
   "outputs": [
    {
     "name": "stdin",
     "output_type": "stream",
     "text": [
      "Enter Sale Amount: 5000\n"
     ]
    },
    {
     "name": "stdout",
     "output_type": "stream",
     "text": [
      "Discount :  250.0\n",
      "Net Pay  :  4750.0\n"
     ]
    }
   ],
   "source": [
    "#26. Implement a program to calculate the discounted price based on different purchase amounts using elif statements.\n",
    "amt = int(input(\"Enter Sale Amount:\"))\n",
    "if(amt>0):\n",
    "    if amt<=5000:\n",
    "       disc = amt*0.05\n",
    "    elif amt<=15000:\n",
    "        disc=amt*0.12\n",
    "    elif amt<=25000:\n",
    "        disc=0.2 * amt\n",
    "    else:\n",
    "         disc=0.3 * amt\n",
    "\n",
    "    print(\"Discount : \",disc)\n",
    "    print(\"Net Pay  : \",amt-disc)\n",
    "else:\n",
    "    print(\"Invalid Amount\")"
   ]
  },
  {
   "cell_type": "code",
   "execution_count": 6,
   "id": "34a57d34-f148-48d3-bb65-5f2f4f5ce520",
   "metadata": {},
   "outputs": [
    {
     "name": "stdin",
     "output_type": "stream",
     "text": [
      "Enter the units consumed in a month 155\n"
     ]
    },
    {
     "name": "stdout",
     "output_type": "stream",
     "text": [
      "the electricity bill is: 337.5\n"
     ]
    }
   ],
   "source": [
    "#27. Develop a program to calculate the electricity bill based on different consumption slabs using elif statements.\n",
    "ele_units=int(input(\"Enter the units consumed in a month\"))\n",
    "if ele_units<=100:\n",
    "    billamount=ele_units*1.5\n",
    "    fixedcharges=25\n",
    "elif ele_units<=200:\n",
    "    billamount=100*1.5+(ele_units-100)*2.5\n",
    "    fixedcharges=50\n",
    "elif ele_units<=300:\n",
    "    billamount=100*1.5+100*2.5+(ele_units-200)*4\n",
    "    fixedcharges=100\n",
    "else:\n",
    "    billamount=0\n",
    "    fixedcharges=1500.00\n",
    "total_bill=billamount+fixedcharges\n",
    "print(\"the electricity bill is:\",total_bill)\n"
   ]
  },
  {
   "cell_type": "code",
   "execution_count": 9,
   "id": "49e454a4-3d08-4241-a4e4-e010a7890dd1",
   "metadata": {},
   "outputs": [
    {
     "name": "stdin",
     "output_type": "stream",
     "text": [
      "enter side1 2\n",
      "enter side2 3\n",
      "enter side3 2\n",
      "enter side4 3\n",
      "enter angle1 90\n",
      "enter angle2 90\n",
      "enter angle3 90\n",
      "enter angle4 90\n"
     ]
    },
    {
     "name": "stdout",
     "output_type": "stream",
     "text": [
      " the type of quadrilateral is rectangle\n"
     ]
    }
   ],
   "source": [
    "# 28. Create a program to determine the type of quadrilateral based on its angles and sides using elif statements.\n",
    "x=float(input(\"enter side1\"))\n",
    "y=float(input(\"enter side2\"))\n",
    "z=float(input(\"enter side3\"))\n",
    "w=float(input(\"enter side4\"))\n",
    "a=float(input(\"enter angle1\"))\n",
    "b=float(input(\"enter angle2\"))\n",
    "c=float(input(\"enter angle3\"))\n",
    "d=float(input(\"enter angle4\"))\n",
    "if x==y==z==w and a==b==c==d:\n",
    "    print(\" the type of quadrilateral is square\")\n",
    "elif x==z and y==w and a==b==c==d:\n",
    "    print(\" the type of quadrilateral is rectangle\")\n",
    "elif x==y==z==w and a==c and b==d:\n",
    "     print(\" the type of quadrilateral is Rhombus\")\n",
    "else:\n",
    "    print(\"the type is other quadrilateral\")\n",
    "    \n"
   ]
  },
  {
   "cell_type": "code",
   "execution_count": 48,
   "id": "e40b7b85-911b-4b32-a923-77d74fc8495b",
   "metadata": {},
   "outputs": [
    {
     "name": "stdin",
     "output_type": "stream",
     "text": [
      "enter the month July\n"
     ]
    },
    {
     "name": "stdout",
     "output_type": "stream",
     "text": [
      "The season is Winter\n"
     ]
    }
   ],
   "source": [
    "#29. Write a Python script to determine the season based on a user-provided month using elif statements.\n",
    "month=input(\"enter the month\")\n",
    "if month in ('January', 'February', 'March'):\n",
    "    print(\"The season is Winter\")\n",
    "elif month in ('April', 'May', 'June'):\n",
    "    print(\"The season is Spring\")\n",
    "elif month in ('July', 'August', 'September'):\n",
    "    print(\"The season is Winter\")\n",
    "else:\n",
    "    print(\"The season is Autumn\")"
   ]
  },
  {
   "cell_type": "code",
   "execution_count": 58,
   "id": "b3710e2e-45b7-4b07-89e2-77acc0becbab",
   "metadata": {},
   "outputs": [
    {
     "name": "stdin",
     "output_type": "stream",
     "text": [
      "eneter any year 2000\n",
      "enter a month March\n"
     ]
    },
    {
     "name": "stdout",
     "output_type": "stream",
     "text": [
      "the year is leap year\n",
      "the number of days are 31\n"
     ]
    }
   ],
   "source": [
    "#30. Implement a program to determine the type of a year (leap or common) and month (30 or 31 days) using elif statements\n",
    "year=int(input(\"eneter any year\"))\n",
    "month=input(\"enter a month\")\n",
    "if year%4==0 or year%100==0 and year%400==0:\n",
    "    print(\"the year is leap year\")\n",
    "else:\n",
    "    print(\"the year is common\")\n",
    "if month==\"February\":\n",
    "    print(\"the number of days are 28\")\n",
    "elif month==\"January\" or month==\"March\" or month==\"May\" or month==\"July\" or month==\"August\" or month==\"Octobor\" or month==\"December\":\n",
    "    print(\"the number of days are 31\")\n",
    "else:\n",
    "    print(\"the number of days are 30\")"
   ]
  }
 ],
 "metadata": {
  "kernelspec": {
   "display_name": "Python 3 (ipykernel)",
   "language": "python",
   "name": "python3"
  },
  "language_info": {
   "codemirror_mode": {
    "name": "ipython",
    "version": 3
   },
   "file_extension": ".py",
   "mimetype": "text/x-python",
   "name": "python",
   "nbconvert_exporter": "python",
   "pygments_lexer": "ipython3",
   "version": "3.10.8"
  }
 },
 "nbformat": 4,
 "nbformat_minor": 5
}
